{
 "cells": [
  {
   "cell_type": "code",
   "execution_count": 1,
   "id": "7de4d35b",
   "metadata": {
    "scrolled": true
   },
   "outputs": [],
   "source": [
    "import pandas as pd\n",
    "import matplotlib.pyplot as plt"
   ]
  },
  {
   "cell_type": "code",
   "execution_count": 2,
   "id": "35c8f49d",
   "metadata": {},
   "outputs": [],
   "source": [
    "df = pd.read_csv('path/data_retail.csv', sep=';')"
   ]
  },
  {
   "cell_type": "code",
   "execution_count": 3,
   "id": "9bf0dccb",
   "metadata": {
    "scrolled": true
   },
   "outputs": [
    {
     "data": {
      "text/html": [
       "<div>\n",
       "<style scoped>\n",
       "    .dataframe tbody tr th:only-of-type {\n",
       "        vertical-align: middle;\n",
       "    }\n",
       "\n",
       "    .dataframe tbody tr th {\n",
       "        vertical-align: top;\n",
       "    }\n",
       "\n",
       "    .dataframe thead th {\n",
       "        text-align: right;\n",
       "    }\n",
       "</style>\n",
       "<table border=\"1\" class=\"dataframe\">\n",
       "  <thead>\n",
       "    <tr style=\"text-align: right;\">\n",
       "      <th></th>\n",
       "      <th>no</th>\n",
       "      <th>Row_Num</th>\n",
       "      <th>Customer_ID</th>\n",
       "      <th>Product</th>\n",
       "      <th>First_Transaction</th>\n",
       "      <th>Last_Transaction</th>\n",
       "      <th>Average_Transaction_Amount</th>\n",
       "      <th>Count_Transaction</th>\n",
       "    </tr>\n",
       "  </thead>\n",
       "  <tbody>\n",
       "    <tr>\n",
       "      <th>0</th>\n",
       "      <td>1</td>\n",
       "      <td>1</td>\n",
       "      <td>29531</td>\n",
       "      <td>Jaket</td>\n",
       "      <td>1466304274396</td>\n",
       "      <td>1538718482608</td>\n",
       "      <td>1467681</td>\n",
       "      <td>22</td>\n",
       "    </tr>\n",
       "    <tr>\n",
       "      <th>1</th>\n",
       "      <td>2</td>\n",
       "      <td>2</td>\n",
       "      <td>29531</td>\n",
       "      <td>Sepatu</td>\n",
       "      <td>1406077331494</td>\n",
       "      <td>1545735761270</td>\n",
       "      <td>1269337</td>\n",
       "      <td>41</td>\n",
       "    </tr>\n",
       "    <tr>\n",
       "      <th>2</th>\n",
       "      <td>3</td>\n",
       "      <td>3</td>\n",
       "      <td>141526</td>\n",
       "      <td>Tas</td>\n",
       "      <td>1493349147000</td>\n",
       "      <td>1548322802000</td>\n",
       "      <td>310915</td>\n",
       "      <td>30</td>\n",
       "    </tr>\n",
       "    <tr>\n",
       "      <th>3</th>\n",
       "      <td>4</td>\n",
       "      <td>4</td>\n",
       "      <td>141526</td>\n",
       "      <td>Jaket</td>\n",
       "      <td>1493362372547</td>\n",
       "      <td>1547643603911</td>\n",
       "      <td>722632</td>\n",
       "      <td>27</td>\n",
       "    </tr>\n",
       "    <tr>\n",
       "      <th>4</th>\n",
       "      <td>5</td>\n",
       "      <td>5</td>\n",
       "      <td>37545</td>\n",
       "      <td>Sepatu</td>\n",
       "      <td>1429178498531</td>\n",
       "      <td>1542891221530</td>\n",
       "      <td>1775036</td>\n",
       "      <td>25</td>\n",
       "    </tr>\n",
       "  </tbody>\n",
       "</table>\n",
       "</div>"
      ],
      "text/plain": [
       "   no  Row_Num  Customer_ID Product  First_Transaction  Last_Transaction  \\\n",
       "0   1        1        29531   Jaket      1466304274396     1538718482608   \n",
       "1   2        2        29531  Sepatu      1406077331494     1545735761270   \n",
       "2   3        3       141526     Tas      1493349147000     1548322802000   \n",
       "3   4        4       141526   Jaket      1493362372547     1547643603911   \n",
       "4   5        5        37545  Sepatu      1429178498531     1542891221530   \n",
       "\n",
       "   Average_Transaction_Amount  Count_Transaction  \n",
       "0                     1467681                 22  \n",
       "1                     1269337                 41  \n",
       "2                      310915                 30  \n",
       "3                      722632                 27  \n",
       "4                     1775036                 25  "
      ]
     },
     "execution_count": 3,
     "metadata": {},
     "output_type": "execute_result"
    }
   ],
   "source": [
    "df.head()"
   ]
  },
  {
   "cell_type": "markdown",
   "id": "deb69683",
   "metadata": {},
   "source": [
    "**Data dictionary**\n",
    "\n",
    "- no : nomor urut padadataset\n",
    "- Row_Num = nomor urut baris\n",
    "- Customer_ID = ID unik untuk setiap pelanggan\n",
    "- Product = produk yang dibeli oleh pelanggan\n",
    "- First_Transaction = tanggal pertama kali pelanggan melakukan transaksi\n",
    "- Last_Transaction = tanggal terakhir kali pelanggan melakukan transaksi\n",
    "- Average_Transaction_Amount = rata-rata jumlah transaksi oleh pelanggan\n",
    "- Count_Transaction = Jumlah total transaksi yang dilakukan oleh pelanggan"
   ]
  },
  {
   "cell_type": "code",
   "execution_count": 4,
   "id": "9e3da2f7",
   "metadata": {},
   "outputs": [
    {
     "name": "stdout",
     "output_type": "stream",
     "text": [
      "<class 'pandas.core.frame.DataFrame'>\n",
      "RangeIndex: 100000 entries, 0 to 99999\n",
      "Data columns (total 8 columns):\n",
      " #   Column                      Non-Null Count   Dtype \n",
      "---  ------                      --------------   ----- \n",
      " 0   no                          100000 non-null  int64 \n",
      " 1   Row_Num                     100000 non-null  int64 \n",
      " 2   Customer_ID                 100000 non-null  int64 \n",
      " 3   Product                     100000 non-null  object\n",
      " 4   First_Transaction           100000 non-null  int64 \n",
      " 5   Last_Transaction            100000 non-null  int64 \n",
      " 6   Average_Transaction_Amount  100000 non-null  int64 \n",
      " 7   Count_Transaction           100000 non-null  int64 \n",
      "dtypes: int64(7), object(1)\n",
      "memory usage: 6.1+ MB\n"
     ]
    }
   ],
   "source": [
    "df.info()"
   ]
  },
  {
   "cell_type": "markdown",
   "id": "124c3632",
   "metadata": {},
   "source": [
    "Dua kolom yang menunjukkan terjadinya transaksi tidak bertipe datetime, maka kedua kolom tersebut perlu diubah ke tipe data datetime"
   ]
  },
  {
   "cell_type": "code",
   "execution_count": 5,
   "id": "1d0e363b",
   "metadata": {},
   "outputs": [],
   "source": [
    "# Kolom First_Transaction\n",
    "df['First_Transaction'] = pd.to_datetime(df['First_Transaction']/1000, unit='s', origin='1970-01-01')\n",
    "# Kolom Last_Transaction\n",
    "df['Last_Transaction'] = pd.to_datetime(df['Last_Transaction']/1000, unit='s', origin='1970-01-01')"
   ]
  },
  {
   "cell_type": "code",
   "execution_count": 6,
   "id": "b48cee2c",
   "metadata": {},
   "outputs": [
    {
     "data": {
      "text/html": [
       "<div>\n",
       "<style scoped>\n",
       "    .dataframe tbody tr th:only-of-type {\n",
       "        vertical-align: middle;\n",
       "    }\n",
       "\n",
       "    .dataframe tbody tr th {\n",
       "        vertical-align: top;\n",
       "    }\n",
       "\n",
       "    .dataframe thead th {\n",
       "        text-align: right;\n",
       "    }\n",
       "</style>\n",
       "<table border=\"1\" class=\"dataframe\">\n",
       "  <thead>\n",
       "    <tr style=\"text-align: right;\">\n",
       "      <th></th>\n",
       "      <th>no</th>\n",
       "      <th>Row_Num</th>\n",
       "      <th>Customer_ID</th>\n",
       "      <th>Product</th>\n",
       "      <th>First_Transaction</th>\n",
       "      <th>Last_Transaction</th>\n",
       "      <th>Average_Transaction_Amount</th>\n",
       "      <th>Count_Transaction</th>\n",
       "    </tr>\n",
       "  </thead>\n",
       "  <tbody>\n",
       "    <tr>\n",
       "      <th>0</th>\n",
       "      <td>1</td>\n",
       "      <td>1</td>\n",
       "      <td>29531</td>\n",
       "      <td>Jaket</td>\n",
       "      <td>2016-06-19 02:44:34.396000000</td>\n",
       "      <td>2018-10-05 05:48:02.608000000</td>\n",
       "      <td>1467681</td>\n",
       "      <td>22</td>\n",
       "    </tr>\n",
       "    <tr>\n",
       "      <th>1</th>\n",
       "      <td>2</td>\n",
       "      <td>2</td>\n",
       "      <td>29531</td>\n",
       "      <td>Sepatu</td>\n",
       "      <td>2014-07-23 01:02:11.493999872</td>\n",
       "      <td>2018-12-25 11:02:41.269999872</td>\n",
       "      <td>1269337</td>\n",
       "      <td>41</td>\n",
       "    </tr>\n",
       "    <tr>\n",
       "      <th>2</th>\n",
       "      <td>3</td>\n",
       "      <td>3</td>\n",
       "      <td>141526</td>\n",
       "      <td>Tas</td>\n",
       "      <td>2017-04-28 03:12:27.000000000</td>\n",
       "      <td>2019-01-24 09:40:02.000000000</td>\n",
       "      <td>310915</td>\n",
       "      <td>30</td>\n",
       "    </tr>\n",
       "    <tr>\n",
       "      <th>3</th>\n",
       "      <td>4</td>\n",
       "      <td>4</td>\n",
       "      <td>141526</td>\n",
       "      <td>Jaket</td>\n",
       "      <td>2017-04-28 06:52:52.546999808</td>\n",
       "      <td>2019-01-16 13:00:03.911000064</td>\n",
       "      <td>722632</td>\n",
       "      <td>27</td>\n",
       "    </tr>\n",
       "    <tr>\n",
       "      <th>4</th>\n",
       "      <td>5</td>\n",
       "      <td>5</td>\n",
       "      <td>37545</td>\n",
       "      <td>Sepatu</td>\n",
       "      <td>2015-04-16 10:01:38.530999808</td>\n",
       "      <td>2018-11-22 12:53:41.529999872</td>\n",
       "      <td>1775036</td>\n",
       "      <td>25</td>\n",
       "    </tr>\n",
       "  </tbody>\n",
       "</table>\n",
       "</div>"
      ],
      "text/plain": [
       "   no  Row_Num  Customer_ID Product             First_Transaction  \\\n",
       "0   1        1        29531   Jaket 2016-06-19 02:44:34.396000000   \n",
       "1   2        2        29531  Sepatu 2014-07-23 01:02:11.493999872   \n",
       "2   3        3       141526     Tas 2017-04-28 03:12:27.000000000   \n",
       "3   4        4       141526   Jaket 2017-04-28 06:52:52.546999808   \n",
       "4   5        5        37545  Sepatu 2015-04-16 10:01:38.530999808   \n",
       "\n",
       "               Last_Transaction  Average_Transaction_Amount  Count_Transaction  \n",
       "0 2018-10-05 05:48:02.608000000                     1467681                 22  \n",
       "1 2018-12-25 11:02:41.269999872                     1269337                 41  \n",
       "2 2019-01-24 09:40:02.000000000                      310915                 30  \n",
       "3 2019-01-16 13:00:03.911000064                      722632                 27  \n",
       "4 2018-11-22 12:53:41.529999872                     1775036                 25  "
      ]
     },
     "execution_count": 6,
     "metadata": {},
     "output_type": "execute_result"
    }
   ],
   "source": [
    "df.head()"
   ]
  },
  {
   "cell_type": "markdown",
   "id": "f607605f",
   "metadata": {},
   "source": [
    "- Dalam kasus ini, kategori churn ditentukan jika transaksi terakhir dilakukan pada tanggal 1 Agustus tahun 2018\n",
    "\n",
    "- Dibentuk kolom baru bernama 'is_churn' yang berisi apakah customer tersebut mengalami churn atau tidak berdasarkan pendefinisian kondisi churn yang ada"
   ]
  },
  {
   "cell_type": "code",
   "execution_count": 7,
   "id": "67e226e6",
   "metadata": {},
   "outputs": [
    {
     "name": "stdout",
     "output_type": "stream",
     "text": [
      "2019-02-01 23:57:57.286000128\n",
      "2019-02-01 22:44:12.811000064\n"
     ]
    }
   ],
   "source": [
    "# Pengecekan transaksaksi terakhir dalam dataset\n",
    "print(max(df['Last_Transaction']))\n",
    "print(max(df['First_Transaction']))"
   ]
  },
  {
   "cell_type": "code",
   "execution_count": 8,
   "id": "5b6505c2",
   "metadata": {},
   "outputs": [],
   "source": [
    "# Klasifikasikan customer yang berstatus churn atau tidak dengan boolean\n",
    "df.loc[df['Last_Transaction']<='2018-08-01', 'is_churn'] = True\n",
    "df.loc[df['Last_Transaction']>'2018-08-01', 'is_churn'] = False"
   ]
  },
  {
   "cell_type": "code",
   "execution_count": 9,
   "id": "01d12eac",
   "metadata": {},
   "outputs": [
    {
     "data": {
      "text/html": [
       "<div>\n",
       "<style scoped>\n",
       "    .dataframe tbody tr th:only-of-type {\n",
       "        vertical-align: middle;\n",
       "    }\n",
       "\n",
       "    .dataframe tbody tr th {\n",
       "        vertical-align: top;\n",
       "    }\n",
       "\n",
       "    .dataframe thead th {\n",
       "        text-align: right;\n",
       "    }\n",
       "</style>\n",
       "<table border=\"1\" class=\"dataframe\">\n",
       "  <thead>\n",
       "    <tr style=\"text-align: right;\">\n",
       "      <th></th>\n",
       "      <th>no</th>\n",
       "      <th>Row_Num</th>\n",
       "      <th>Customer_ID</th>\n",
       "      <th>Product</th>\n",
       "      <th>First_Transaction</th>\n",
       "      <th>Last_Transaction</th>\n",
       "      <th>Average_Transaction_Amount</th>\n",
       "      <th>Count_Transaction</th>\n",
       "      <th>is_churn</th>\n",
       "    </tr>\n",
       "  </thead>\n",
       "  <tbody>\n",
       "    <tr>\n",
       "      <th>0</th>\n",
       "      <td>1</td>\n",
       "      <td>1</td>\n",
       "      <td>29531</td>\n",
       "      <td>Jaket</td>\n",
       "      <td>2016-06-19 02:44:34.396000000</td>\n",
       "      <td>2018-10-05 05:48:02.608000000</td>\n",
       "      <td>1467681</td>\n",
       "      <td>22</td>\n",
       "      <td>False</td>\n",
       "    </tr>\n",
       "    <tr>\n",
       "      <th>1</th>\n",
       "      <td>2</td>\n",
       "      <td>2</td>\n",
       "      <td>29531</td>\n",
       "      <td>Sepatu</td>\n",
       "      <td>2014-07-23 01:02:11.493999872</td>\n",
       "      <td>2018-12-25 11:02:41.269999872</td>\n",
       "      <td>1269337</td>\n",
       "      <td>41</td>\n",
       "      <td>False</td>\n",
       "    </tr>\n",
       "    <tr>\n",
       "      <th>2</th>\n",
       "      <td>3</td>\n",
       "      <td>3</td>\n",
       "      <td>141526</td>\n",
       "      <td>Tas</td>\n",
       "      <td>2017-04-28 03:12:27.000000000</td>\n",
       "      <td>2019-01-24 09:40:02.000000000</td>\n",
       "      <td>310915</td>\n",
       "      <td>30</td>\n",
       "      <td>False</td>\n",
       "    </tr>\n",
       "    <tr>\n",
       "      <th>3</th>\n",
       "      <td>4</td>\n",
       "      <td>4</td>\n",
       "      <td>141526</td>\n",
       "      <td>Jaket</td>\n",
       "      <td>2017-04-28 06:52:52.546999808</td>\n",
       "      <td>2019-01-16 13:00:03.911000064</td>\n",
       "      <td>722632</td>\n",
       "      <td>27</td>\n",
       "      <td>False</td>\n",
       "    </tr>\n",
       "    <tr>\n",
       "      <th>4</th>\n",
       "      <td>5</td>\n",
       "      <td>5</td>\n",
       "      <td>37545</td>\n",
       "      <td>Sepatu</td>\n",
       "      <td>2015-04-16 10:01:38.530999808</td>\n",
       "      <td>2018-11-22 12:53:41.529999872</td>\n",
       "      <td>1775036</td>\n",
       "      <td>25</td>\n",
       "      <td>False</td>\n",
       "    </tr>\n",
       "  </tbody>\n",
       "</table>\n",
       "</div>"
      ],
      "text/plain": [
       "   no  Row_Num  Customer_ID Product             First_Transaction  \\\n",
       "0   1        1        29531   Jaket 2016-06-19 02:44:34.396000000   \n",
       "1   2        2        29531  Sepatu 2014-07-23 01:02:11.493999872   \n",
       "2   3        3       141526     Tas 2017-04-28 03:12:27.000000000   \n",
       "3   4        4       141526   Jaket 2017-04-28 06:52:52.546999808   \n",
       "4   5        5        37545  Sepatu 2015-04-16 10:01:38.530999808   \n",
       "\n",
       "               Last_Transaction  Average_Transaction_Amount  \\\n",
       "0 2018-10-05 05:48:02.608000000                     1467681   \n",
       "1 2018-12-25 11:02:41.269999872                     1269337   \n",
       "2 2019-01-24 09:40:02.000000000                      310915   \n",
       "3 2019-01-16 13:00:03.911000064                      722632   \n",
       "4 2018-11-22 12:53:41.529999872                     1775036   \n",
       "\n",
       "   Count_Transaction is_churn  \n",
       "0                 22    False  \n",
       "1                 41    False  \n",
       "2                 30    False  \n",
       "3                 27    False  \n",
       "4                 25    False  "
      ]
     },
     "execution_count": 9,
     "metadata": {},
     "output_type": "execute_result"
    }
   ],
   "source": [
    "df.head()"
   ]
  },
  {
   "cell_type": "code",
   "execution_count": 10,
   "id": "c83bd6a0",
   "metadata": {},
   "outputs": [
    {
     "name": "stdout",
     "output_type": "stream",
     "text": [
      "<class 'pandas.core.frame.DataFrame'>\n",
      "RangeIndex: 100000 entries, 0 to 99999\n",
      "Data columns (total 9 columns):\n",
      " #   Column                      Non-Null Count   Dtype         \n",
      "---  ------                      --------------   -----         \n",
      " 0   no                          100000 non-null  int64         \n",
      " 1   Row_Num                     100000 non-null  int64         \n",
      " 2   Customer_ID                 100000 non-null  int64         \n",
      " 3   Product                     100000 non-null  object        \n",
      " 4   First_Transaction           100000 non-null  datetime64[ns]\n",
      " 5   Last_Transaction            100000 non-null  datetime64[ns]\n",
      " 6   Average_Transaction_Amount  100000 non-null  int64         \n",
      " 7   Count_Transaction           100000 non-null  int64         \n",
      " 8   is_churn                    100000 non-null  object        \n",
      "dtypes: datetime64[ns](2), int64(5), object(2)\n",
      "memory usage: 6.9+ MB\n"
     ]
    }
   ],
   "source": [
    "df.info()"
   ]
  },
  {
   "cell_type": "markdown",
   "id": "a607db7b",
   "metadata": {},
   "source": [
    "**Hapus kolom yang tidak diperlukan**"
   ]
  },
  {
   "cell_type": "code",
   "execution_count": 11,
   "id": "ff4f778b",
   "metadata": {},
   "outputs": [
    {
     "data": {
      "text/html": [
       "<div>\n",
       "<style scoped>\n",
       "    .dataframe tbody tr th:only-of-type {\n",
       "        vertical-align: middle;\n",
       "    }\n",
       "\n",
       "    .dataframe tbody tr th {\n",
       "        vertical-align: top;\n",
       "    }\n",
       "\n",
       "    .dataframe thead th {\n",
       "        text-align: right;\n",
       "    }\n",
       "</style>\n",
       "<table border=\"1\" class=\"dataframe\">\n",
       "  <thead>\n",
       "    <tr style=\"text-align: right;\">\n",
       "      <th></th>\n",
       "      <th>Customer_ID</th>\n",
       "      <th>Product</th>\n",
       "      <th>First_Transaction</th>\n",
       "      <th>Last_Transaction</th>\n",
       "      <th>Average_Transaction_Amount</th>\n",
       "      <th>Count_Transaction</th>\n",
       "      <th>is_churn</th>\n",
       "    </tr>\n",
       "  </thead>\n",
       "  <tbody>\n",
       "    <tr>\n",
       "      <th>0</th>\n",
       "      <td>29531</td>\n",
       "      <td>Jaket</td>\n",
       "      <td>2016-06-19 02:44:34.396000000</td>\n",
       "      <td>2018-10-05 05:48:02.608000000</td>\n",
       "      <td>1467681</td>\n",
       "      <td>22</td>\n",
       "      <td>False</td>\n",
       "    </tr>\n",
       "    <tr>\n",
       "      <th>1</th>\n",
       "      <td>29531</td>\n",
       "      <td>Sepatu</td>\n",
       "      <td>2014-07-23 01:02:11.493999872</td>\n",
       "      <td>2018-12-25 11:02:41.269999872</td>\n",
       "      <td>1269337</td>\n",
       "      <td>41</td>\n",
       "      <td>False</td>\n",
       "    </tr>\n",
       "    <tr>\n",
       "      <th>2</th>\n",
       "      <td>141526</td>\n",
       "      <td>Tas</td>\n",
       "      <td>2017-04-28 03:12:27.000000000</td>\n",
       "      <td>2019-01-24 09:40:02.000000000</td>\n",
       "      <td>310915</td>\n",
       "      <td>30</td>\n",
       "      <td>False</td>\n",
       "    </tr>\n",
       "    <tr>\n",
       "      <th>3</th>\n",
       "      <td>141526</td>\n",
       "      <td>Jaket</td>\n",
       "      <td>2017-04-28 06:52:52.546999808</td>\n",
       "      <td>2019-01-16 13:00:03.911000064</td>\n",
       "      <td>722632</td>\n",
       "      <td>27</td>\n",
       "      <td>False</td>\n",
       "    </tr>\n",
       "    <tr>\n",
       "      <th>4</th>\n",
       "      <td>37545</td>\n",
       "      <td>Sepatu</td>\n",
       "      <td>2015-04-16 10:01:38.530999808</td>\n",
       "      <td>2018-11-22 12:53:41.529999872</td>\n",
       "      <td>1775036</td>\n",
       "      <td>25</td>\n",
       "      <td>False</td>\n",
       "    </tr>\n",
       "    <tr>\n",
       "      <th>...</th>\n",
       "      <td>...</td>\n",
       "      <td>...</td>\n",
       "      <td>...</td>\n",
       "      <td>...</td>\n",
       "      <td>...</td>\n",
       "      <td>...</td>\n",
       "      <td>...</td>\n",
       "    </tr>\n",
       "    <tr>\n",
       "      <th>99995</th>\n",
       "      <td>56249</td>\n",
       "      <td>Jaket</td>\n",
       "      <td>2016-06-01 11:35:39.092000000</td>\n",
       "      <td>2016-06-01 11:35:39.092000000</td>\n",
       "      <td>298662</td>\n",
       "      <td>1</td>\n",
       "      <td>True</td>\n",
       "    </tr>\n",
       "    <tr>\n",
       "      <th>99996</th>\n",
       "      <td>56249</td>\n",
       "      <td>Sepatu</td>\n",
       "      <td>2017-02-09 05:46:10.763000064</td>\n",
       "      <td>2017-02-09 05:46:10.763000064</td>\n",
       "      <td>349556</td>\n",
       "      <td>1</td>\n",
       "      <td>True</td>\n",
       "    </tr>\n",
       "    <tr>\n",
       "      <th>99997</th>\n",
       "      <td>34157</td>\n",
       "      <td>Jaket</td>\n",
       "      <td>2015-08-30 08:54:20.706000128</td>\n",
       "      <td>2015-08-30 08:54:20.706000128</td>\n",
       "      <td>598013</td>\n",
       "      <td>1</td>\n",
       "      <td>True</td>\n",
       "    </tr>\n",
       "    <tr>\n",
       "      <th>99998</th>\n",
       "      <td>34157</td>\n",
       "      <td>Sepatu</td>\n",
       "      <td>2014-11-14 02:42:28.026000128</td>\n",
       "      <td>2014-11-14 02:42:28.026000128</td>\n",
       "      <td>1208591</td>\n",
       "      <td>1</td>\n",
       "      <td>True</td>\n",
       "    </tr>\n",
       "    <tr>\n",
       "      <th>99999</th>\n",
       "      <td>188822</td>\n",
       "      <td>Jaket</td>\n",
       "      <td>2018-10-24 09:36:04.124999936</td>\n",
       "      <td>2018-10-24 09:36:04.124999936</td>\n",
       "      <td>486710</td>\n",
       "      <td>1</td>\n",
       "      <td>False</td>\n",
       "    </tr>\n",
       "  </tbody>\n",
       "</table>\n",
       "<p>100000 rows × 7 columns</p>\n",
       "</div>"
      ],
      "text/plain": [
       "       Customer_ID Product             First_Transaction  \\\n",
       "0            29531   Jaket 2016-06-19 02:44:34.396000000   \n",
       "1            29531  Sepatu 2014-07-23 01:02:11.493999872   \n",
       "2           141526     Tas 2017-04-28 03:12:27.000000000   \n",
       "3           141526   Jaket 2017-04-28 06:52:52.546999808   \n",
       "4            37545  Sepatu 2015-04-16 10:01:38.530999808   \n",
       "...            ...     ...                           ...   \n",
       "99995        56249   Jaket 2016-06-01 11:35:39.092000000   \n",
       "99996        56249  Sepatu 2017-02-09 05:46:10.763000064   \n",
       "99997        34157   Jaket 2015-08-30 08:54:20.706000128   \n",
       "99998        34157  Sepatu 2014-11-14 02:42:28.026000128   \n",
       "99999       188822   Jaket 2018-10-24 09:36:04.124999936   \n",
       "\n",
       "                   Last_Transaction  Average_Transaction_Amount  \\\n",
       "0     2018-10-05 05:48:02.608000000                     1467681   \n",
       "1     2018-12-25 11:02:41.269999872                     1269337   \n",
       "2     2019-01-24 09:40:02.000000000                      310915   \n",
       "3     2019-01-16 13:00:03.911000064                      722632   \n",
       "4     2018-11-22 12:53:41.529999872                     1775036   \n",
       "...                             ...                         ...   \n",
       "99995 2016-06-01 11:35:39.092000000                      298662   \n",
       "99996 2017-02-09 05:46:10.763000064                      349556   \n",
       "99997 2015-08-30 08:54:20.706000128                      598013   \n",
       "99998 2014-11-14 02:42:28.026000128                     1208591   \n",
       "99999 2018-10-24 09:36:04.124999936                      486710   \n",
       "\n",
       "       Count_Transaction is_churn  \n",
       "0                     22    False  \n",
       "1                     41    False  \n",
       "2                     30    False  \n",
       "3                     27    False  \n",
       "4                     25    False  \n",
       "...                  ...      ...  \n",
       "99995                  1     True  \n",
       "99996                  1     True  \n",
       "99997                  1     True  \n",
       "99998                  1     True  \n",
       "99999                  1    False  \n",
       "\n",
       "[100000 rows x 7 columns]"
      ]
     },
     "execution_count": 11,
     "metadata": {},
     "output_type": "execute_result"
    }
   ],
   "source": [
    "drop_cols = ['no', 'Row_Num']\n",
    "df.drop(columns=drop_cols, inplace=True)\n",
    "df"
   ]
  },
  {
   "cell_type": "markdown",
   "id": "a26b185f",
   "metadata": {},
   "source": [
    "**Customer Acquisition by Year**\n",
    "\n",
    "Feature engineering untuk membuat 2 kolom baru yang berisi tahun pertama transaksi dan tahun terakhir transaksi"
   ]
  },
  {
   "cell_type": "code",
   "execution_count": 12,
   "id": "b1b04a13",
   "metadata": {},
   "outputs": [
    {
     "data": {
      "text/html": [
       "<div>\n",
       "<style scoped>\n",
       "    .dataframe tbody tr th:only-of-type {\n",
       "        vertical-align: middle;\n",
       "    }\n",
       "\n",
       "    .dataframe tbody tr th {\n",
       "        vertical-align: top;\n",
       "    }\n",
       "\n",
       "    .dataframe thead th {\n",
       "        text-align: right;\n",
       "    }\n",
       "</style>\n",
       "<table border=\"1\" class=\"dataframe\">\n",
       "  <thead>\n",
       "    <tr style=\"text-align: right;\">\n",
       "      <th></th>\n",
       "      <th>Customer_ID</th>\n",
       "      <th>Product</th>\n",
       "      <th>First_Transaction</th>\n",
       "      <th>Last_Transaction</th>\n",
       "      <th>Average_Transaction_Amount</th>\n",
       "      <th>Count_Transaction</th>\n",
       "      <th>is_churn</th>\n",
       "      <th>Year_First_Transaction</th>\n",
       "      <th>Year_Last_Transaction</th>\n",
       "    </tr>\n",
       "  </thead>\n",
       "  <tbody>\n",
       "    <tr>\n",
       "      <th>0</th>\n",
       "      <td>29531</td>\n",
       "      <td>Jaket</td>\n",
       "      <td>2016-06-19 02:44:34.396000000</td>\n",
       "      <td>2018-10-05 05:48:02.608000000</td>\n",
       "      <td>1467681</td>\n",
       "      <td>22</td>\n",
       "      <td>False</td>\n",
       "      <td>2016</td>\n",
       "      <td>2018</td>\n",
       "    </tr>\n",
       "    <tr>\n",
       "      <th>1</th>\n",
       "      <td>29531</td>\n",
       "      <td>Sepatu</td>\n",
       "      <td>2014-07-23 01:02:11.493999872</td>\n",
       "      <td>2018-12-25 11:02:41.269999872</td>\n",
       "      <td>1269337</td>\n",
       "      <td>41</td>\n",
       "      <td>False</td>\n",
       "      <td>2014</td>\n",
       "      <td>2018</td>\n",
       "    </tr>\n",
       "    <tr>\n",
       "      <th>2</th>\n",
       "      <td>141526</td>\n",
       "      <td>Tas</td>\n",
       "      <td>2017-04-28 03:12:27.000000000</td>\n",
       "      <td>2019-01-24 09:40:02.000000000</td>\n",
       "      <td>310915</td>\n",
       "      <td>30</td>\n",
       "      <td>False</td>\n",
       "      <td>2017</td>\n",
       "      <td>2019</td>\n",
       "    </tr>\n",
       "    <tr>\n",
       "      <th>3</th>\n",
       "      <td>141526</td>\n",
       "      <td>Jaket</td>\n",
       "      <td>2017-04-28 06:52:52.546999808</td>\n",
       "      <td>2019-01-16 13:00:03.911000064</td>\n",
       "      <td>722632</td>\n",
       "      <td>27</td>\n",
       "      <td>False</td>\n",
       "      <td>2017</td>\n",
       "      <td>2019</td>\n",
       "    </tr>\n",
       "    <tr>\n",
       "      <th>4</th>\n",
       "      <td>37545</td>\n",
       "      <td>Sepatu</td>\n",
       "      <td>2015-04-16 10:01:38.530999808</td>\n",
       "      <td>2018-11-22 12:53:41.529999872</td>\n",
       "      <td>1775036</td>\n",
       "      <td>25</td>\n",
       "      <td>False</td>\n",
       "      <td>2015</td>\n",
       "      <td>2018</td>\n",
       "    </tr>\n",
       "  </tbody>\n",
       "</table>\n",
       "</div>"
      ],
      "text/plain": [
       "   Customer_ID Product             First_Transaction  \\\n",
       "0        29531   Jaket 2016-06-19 02:44:34.396000000   \n",
       "1        29531  Sepatu 2014-07-23 01:02:11.493999872   \n",
       "2       141526     Tas 2017-04-28 03:12:27.000000000   \n",
       "3       141526   Jaket 2017-04-28 06:52:52.546999808   \n",
       "4        37545  Sepatu 2015-04-16 10:01:38.530999808   \n",
       "\n",
       "               Last_Transaction  Average_Transaction_Amount  \\\n",
       "0 2018-10-05 05:48:02.608000000                     1467681   \n",
       "1 2018-12-25 11:02:41.269999872                     1269337   \n",
       "2 2019-01-24 09:40:02.000000000                      310915   \n",
       "3 2019-01-16 13:00:03.911000064                      722632   \n",
       "4 2018-11-22 12:53:41.529999872                     1775036   \n",
       "\n",
       "   Count_Transaction is_churn  Year_First_Transaction  Year_Last_Transaction  \n",
       "0                 22    False                    2016                   2018  \n",
       "1                 41    False                    2014                   2018  \n",
       "2                 30    False                    2017                   2019  \n",
       "3                 27    False                    2017                   2019  \n",
       "4                 25    False                    2015                   2018  "
      ]
     },
     "execution_count": 12,
     "metadata": {},
     "output_type": "execute_result"
    }
   ],
   "source": [
    "# Kolom tahun transaksi pertama\n",
    "df['Year_First_Transaction'] = df['First_Transaction'].dt.year\n",
    "# Kolom tahun transaksi terakhir\n",
    "df['Year_Last_Transaction'] = df['Last_Transaction'].dt.year\n",
    "\n",
    "df.head()"
   ]
  },
  {
   "cell_type": "code",
   "execution_count": 13,
   "id": "a3600dd8",
   "metadata": {},
   "outputs": [
    {
     "data": {
      "image/png": "[encoded data removed]",
      "text/plain": [
       "<Figure size 432x288 with 1 Axes>"
      ]
     },
     "metadata": {
      "needs_background": "light"
     },
     "output_type": "display_data"
    }
   ],
   "source": [
    "df_year = df.groupby(['Year_First_Transaction'])['Customer_ID'].count()\n",
    "df_year.plot(x='Year_First_Transaction', y='Customer_ID', kind='bar', title='Graph of Customer Acquisition')\n",
    "plt.xlabel('Year_First_Transaction')\n",
    "plt.savefig('Graph of Customer Acquisition.png')"
   ]
  },
  {
   "cell_type": "markdown",
   "id": "ea1c9ffb",
   "metadata": {},
   "source": [
    "Berdasarkan visualisasi bar plot di atas, dapat diambil informasi:\n",
    "\n",
    "- Terdapat tren pertumbuhan dalam akusisi pelanggan baru mulai tahun 2013-2018. Tren penurunan dari tahun 2018-2019 belum dapat disimpulkan karena data terakhir diambil pada bulan Februari tahun 2019.\n",
    "\n",
    "- Tahun 2017 merupakan tahun di mana akuisisi pelanggan baru mencapai puncaknya"
   ]
  },
  {
   "cell_type": "markdown",
   "id": "65739630",
   "metadata": {},
   "source": [
    "**Rata-rata transaksi per tahun untuk setiap produknya**\n",
    "\n",
    "visualisasikan tren dari tahun ke tahun rata-rata jumlah transaksi untuk tiap-tiap produknya"
   ]
  },
  {
   "cell_type": "code",
   "execution_count": 14,
   "id": "87f51fb8",
   "metadata": {},
   "outputs": [
    {
     "data": {
      "image/png": "[encoded data removed]",
      "text/plain": [
       "<Figure size 432x288 with 1 Axes>"
      ]
     },
     "metadata": {
      "needs_background": "light"
     },
     "output_type": "display_data"
    }
   ],
   "source": [
    "import seaborn as sns\n",
    "\n",
    "plt.clf()\n",
    "sns.pointplot(data = df.groupby(['Product', 'Year_First_Transaction']).mean().reset_index(), \n",
    "              x='Year_First_Transaction', \n",
    "              y='Average_Transaction_Amount', \n",
    "              hue='Product')\n",
    "plt.tight_layout()\n",
    "plt.savefig('Average transaction amount by year')\n",
    "plt.show()"
   ]
  },
  {
   "cell_type": "markdown",
   "id": "b75290ca",
   "metadata": {},
   "source": [
    "Berdasarkan hasil visualisasi di atas, dapat ditarik informasi:\n",
    "\n",
    "- Produk tas dan baju kemungkinan merupakan produk baru yang mulai dijual pada tahun 2017. Meskipun produk baru, sejak tahun 2017-2018, produk baju merupakan produk yang paling populer di antara ketiga produk lainnya.\n",
    "\n",
    "- Produk jaket terus mengalami tren pertumbuhan sejak tahun 2015\n",
    "\n",
    "- Produk sepatu mengalami tren penurunan sejak tahun 2017\n",
    "\n",
    "- Produk tas mengalami tren kenaikan yang signifikan dari tahun 2017-2018. grafik tren 2018-2019 dapat menjadi target untuk mempertahankan kenaikan ini pada tahun 2019 mengingat data terakhir baru berada di bulan Februari 2019"
   ]
  },
  {
   "cell_type": "markdown",
   "id": "108547b4",
   "metadata": {},
   "source": [
    "**Visualisasi proporsi churned customer untuk setiap produk**"
   ]
  },
  {
   "cell_type": "code",
   "execution_count": 15,
   "id": "2eb92150",
   "metadata": {},
   "outputs": [
    {
     "data": {
      "text/plain": [
       "<Figure size 432x288 with 0 Axes>"
      ]
     },
     "metadata": {},
     "output_type": "display_data"
    },
    {
     "data": {
      "image/png": "[encoded data removed]",
      "text/plain": [
       "<Figure size 720x504 with 4 Axes>"
      ]
     },
     "metadata": {},
     "output_type": "display_data"
    }
   ],
   "source": [
    "plt.clf()\n",
    "# Melakukan pivot data dengan pivot_table\n",
    "df_piv = df.pivot_table(index='is_churn', \n",
    "                        columns='Product',\n",
    "                        values='Customer_ID', \n",
    "                        aggfunc='count', \n",
    "                        fill_value=0)\n",
    "\n",
    "# Mendapatkan Proportion Churn by Product\n",
    "plot_product = df_piv.count().sort_values(ascending=False).head(5).index\n",
    "# Plot pie chartnya\n",
    "df_piv = df_piv.reindex(columns=plot_product)\n",
    "df_piv.plot.pie(subplots=True,\n",
    "                figsize=(10, 7),\n",
    "                layout=(-1, 2),\n",
    "                autopct='%1.0f%%',\n",
    "                title='Proportion Churn by Product')\n",
    "plt.tight_layout()\n",
    "plt.savefig('Proporsi churned customer untuk setiap produk')\n",
    "plt.show()"
   ]
  },
  {
   "cell_type": "markdown",
   "id": "e2cedb8a",
   "metadata": {},
   "source": [
    "Berdasarkan hasil visualisasi pie chart di atas, dapat diambil informasi bahwa produk jaket mengalami churn paling besar dengan prosentase sebesar 68%."
   ]
  },
  {
   "cell_type": "markdown",
   "id": "2e6a292b",
   "metadata": {},
   "source": [
    "**Distribusi kategorisasi count transaction**\n",
    "\n",
    "Kategorisasi ini dilakukan dengan mengelompokkan jumlah transaksi dengan aturan sebagai berikut:\n",
    "\n",
    "#Rentang jumlah transaksi = Kategori\n",
    "- s/d 1\t  = 1. 1\n",
    "- 2 s/d 3 =\t2. 2 - 3\n",
    "- 4 s/d 6 =\t3. 4 - 6\n",
    "- 7 s/d 10 = 4. 7 - 10\n",
    "- > 10 = 5. > 10"
   ]
  },
  {
   "cell_type": "code",
   "execution_count": 16,
   "id": "15a6fe53",
   "metadata": {},
   "outputs": [
    {
     "data": {
      "image/png": "[encoded data removed]",
      "text/plain": [
       "<Figure size 432x288 with 1 Axes>"
      ]
     },
     "metadata": {
      "needs_background": "light"
     },
     "output_type": "display_data"
    }
   ],
   "source": [
    "plt.clf()\n",
    "# Kategorisasi jumlah transaksi\n",
    "def func(row):\n",
    "    if row['Count_Transaction'] == 1:\n",
    "        val = '1. 1'\n",
    "    elif (row['Count_Transaction'] > 1 and row['Count_Transaction'] <= 3):\n",
    "        val = '2. 2 - 3'\n",
    "    elif (row['Count_Transaction'] > 3 and row['Count_Transaction'] <= 6):\n",
    "        val = '3. 4 - 6'\n",
    "    elif (row['Count_Transaction'] > 6 and row['Count_Transaction'] <= 10):\n",
    "        val = '4. 7 - 10'\n",
    "    else:\n",
    "        val = '5. >10'\n",
    "    return val\n",
    "# Tambahkan kolom baru\n",
    "df['Count_Transaction_Group'] = df.apply(func, axis=1)\n",
    "\n",
    "df_year = df.groupby(['Count_Transaction_Group'])['Customer_ID'].count()\n",
    "df_year.plot(x='Count_Transaction_Group', y='Customer_ID', kind='bar', title='Customer Distribution by Count Transaction Group')\n",
    "plt.xlabel('Count_Transaction_Group')\n",
    "plt.ylabel('Num_of_Customer')\n",
    "plt.tight_layout()\n",
    "plt.savefig('Distribusi kategorisasi count transaction')\n",
    "plt.show()"
   ]
  },
  {
   "cell_type": "markdown",
   "id": "ecc098d8",
   "metadata": {},
   "source": [
    "Berdassarkan visualisasi bar plot di atas dapat diambil informasi bahwa pola pembelian pelanggan lebih banyak pelanggan bertransaksi dalam jumlah kecil, yaitu 1."
   ]
  },
  {
   "attachments": {
    "image.png": {
     "image/png": "[encoded data removed]"
    }
   },
   "cell_type": "markdown",
   "id": "becd267e",
   "metadata": {},
   "source": [
    "**Distribusi kategorisasi average transaction amount**\n",
    "\n",
    "Kategorisasi ini dilakukan dengan mengelompokkan rata-rata besar transaksi seperti yang diperlihatkan oleh tabel berikut:\n",
    "\n",
    "![image.png](attachment:image.png)\n"
   ]
  },
  {
   "cell_type": "markdown",
   "id": "9540f8cc",
   "metadata": {},
   "source": [
    "**Distribusi kategorisasi average transaction amount**"
   ]
  },
  {
   "cell_type": "code",
   "execution_count": 17,
   "id": "4adcceee",
   "metadata": {},
   "outputs": [
    {
     "data": {
      "image/png": "[encoded data removed]",
      "text/plain": [
       "<Figure size 432x288 with 1 Axes>"
      ]
     },
     "metadata": {
      "needs_background": "light"
     },
     "output_type": "display_data"
    }
   ],
   "source": [
    "plt.clf()\n",
    "# Kategorisasi rata-rata besar transaksi\n",
    "def f(row):\n",
    "    if (row['Average_Transaction_Amount'] >= 100000 and row['Average_Transaction_Amount'] <=250000):\n",
    "        val ='1. 100.000 - 250.000'\n",
    "    elif (row['Average_Transaction_Amount'] > 250000 and row['Average_Transaction_Amount'] <=500000):\n",
    "        val ='2. >250.000 - 500.000'\n",
    "    elif (row['Average_Transaction_Amount'] > 500000 and row['Average_Transaction_Amount'] <=750000):\n",
    "        val ='3. >500.000 - 750.000'\n",
    "    elif (row['Average_Transaction_Amount'] > 750000 and row['Average_Transaction_Amount'] <=1000000):\n",
    "        val ='4. >750.000 - 1.000.000'\n",
    "    elif (row['Average_Transaction_Amount'] > 1000000 and row['Average_Transaction_Amount'] <=2500000):\n",
    "        val ='5. >1.000.000 - 2.500.000'\n",
    "    elif (row['Average_Transaction_Amount'] > 2500000 and row['Average_Transaction_Amount'] <=5000000):\n",
    "        val ='6. >2.500.000 - 5.000.000'\n",
    "    elif (row['Average_Transaction_Amount'] > 5000000 and row['Average_Transaction_Amount'] <=10000000):\n",
    "        val ='7. >5.000.000 - 10.000.000'\n",
    "    else:\n",
    "        val ='8. >10.000.000'\n",
    "    return val\n",
    "# Tambahkan kolom baru\n",
    "df['Average_Transaction_Amount_Group'] = df.apply(f, axis=1)\n",
    "\n",
    "df_year = df.groupby(['Average_Transaction_Amount_Group'])['Customer_ID'].count()\n",
    "df_year.plot(x='Average_Transaction_Amount_Group', y='Customer_ID', kind='bar', title='Customer Distribution by Average Transaction Amount Group')\n",
    "plt.xlabel('Average_Transaction_Amount_Group')\n",
    "plt.ylabel('Num_of_Customer')\n",
    "plt.tight_layout()\n",
    "plt.savefig('Distribusi kategorisasi average transaction amount')\n",
    "plt.show()"
   ]
  },
  {
   "cell_type": "markdown",
   "id": "cdea7746",
   "metadata": {},
   "source": [
    "Dari hasil visualisasi bar plot di atas dapat ditarik informasi bahwa pengeluaran pelanggan lebih banyak tersebar pada kategori 5."
   ]
  },
  {
   "cell_type": "markdown",
   "id": "0b62974c",
   "metadata": {},
   "source": [
    "Feature engineering 'Year_Diff' yang berasal dari pengurangan Last transaction - First transaction"
   ]
  },
  {
   "cell_type": "code",
   "execution_count": 18,
   "id": "f6d2ad9b",
   "metadata": {},
   "outputs": [],
   "source": [
    "df['Year_Diff'] = df['Year_Last_Transaction'] - df['Year_First_Transaction']"
   ]
  },
  {
   "cell_type": "code",
   "execution_count": 19,
   "id": "8372e9f3",
   "metadata": {},
   "outputs": [],
   "source": [
    "from sklearn.preprocessing import LabelEncoder\n",
    "\n",
    "label_encoder = LabelEncoder()\n",
    "df['is_churn'] = label_encoder.fit_transform(df['is_churn'])"
   ]
  },
  {
   "cell_type": "markdown",
   "id": "1a79fbbf",
   "metadata": {},
   "source": [
    "# Modelling"
   ]
  },
  {
   "cell_type": "markdown",
   "id": "543819a6",
   "metadata": {},
   "source": [
    "Menentukan fitur X dan Y"
   ]
  },
  {
   "cell_type": "code",
   "execution_count": 20,
   "id": "a586f0e4",
   "metadata": {},
   "outputs": [],
   "source": [
    "feature_columns = ['Average_Transaction_Amount', 'Count_Transaction', 'Year_Diff']\n",
    "\n",
    "# Features variable\n",
    "X = df[feature_columns] \n",
    "\n",
    "# Target variable\n",
    "y = df['is_churn'] "
   ]
  },
  {
   "cell_type": "code",
   "execution_count": 21,
   "id": "c7fa615b",
   "metadata": {},
   "outputs": [],
   "source": [
    "from sklearn.model_selection import train_test_split\n",
    "\n",
    "X_train, X_test, y_train, y_test = train_test_split(X, y, test_size=0.25, random_state=0)"
   ]
  },
  {
   "cell_type": "code",
   "execution_count": 22,
   "id": "5e48842e",
   "metadata": {
    "scrolled": true
   },
   "outputs": [
    {
     "name": "stdout",
     "output_type": "stream",
     "text": [
      "Confusion Matrix:\n",
      " [[    1  8330]\n",
      " [    3 16666]]\n"
     ]
    }
   ],
   "source": [
    "from sklearn.linear_model import LogisticRegression\n",
    "from sklearn.metrics import confusion_matrix\n",
    "\n",
    "# Inisiasi model logreg\n",
    "logreg = LogisticRegression()\n",
    "\n",
    "# fit the model with data\n",
    "logreg.fit(X_train, y_train)\n",
    "\n",
    "# Predict model\n",
    "y_pred = logreg.predict(X_test)\n",
    "\n",
    "# Evaluasi model menggunakan confusion matrix\n",
    "cnf_matrix = confusion_matrix(y_test, y_pred)\n",
    "print('Confusion Matrix:\\n', cnf_matrix)"
   ]
  },
  {
   "cell_type": "markdown",
   "id": "1f4981c9",
   "metadata": {},
   "source": [
    "**Visualisasi Confussion Matrix**"
   ]
  },
  {
   "cell_type": "code",
   "execution_count": 23,
   "id": "a942c0b5",
   "metadata": {},
   "outputs": [
    {
     "data": {
      "text/plain": [
       "<Figure size 432x288 with 0 Axes>"
      ]
     },
     "metadata": {},
     "output_type": "display_data"
    },
    {
     "data": {
      "image/png": "[encoded data removed]",
      "text/plain": [
       "<Figure size 432x288 with 2 Axes>"
      ]
     },
     "metadata": {
      "needs_background": "light"
     },
     "output_type": "display_data"
    }
   ],
   "source": [
    "import numpy as np\n",
    "import seaborn as sns\n",
    "\n",
    "plt.clf()\n",
    "# name  of classes\n",
    "class_names = [0, 1] \n",
    "fig, ax = plt.subplots()\n",
    "\n",
    "tick_marks = np.arange(len(class_names))\n",
    "plt.xticks(tick_marks, class_names)\n",
    "plt.yticks(tick_marks, class_names)\n",
    "\n",
    "# create heatmap\n",
    "sns.heatmap(pd.DataFrame(cnf_matrix), annot=True, cmap='YlGnBu', fmt='g')\n",
    "ax.xaxis.set_label_position('top')\n",
    "plt.title('Confusion matrix', y=1.1)\n",
    "plt.ylabel('Actual')\n",
    "plt.xlabel('Predicted')\n",
    "plt.tight_layout()\n",
    "plt.show()"
   ]
  },
  {
   "cell_type": "markdown",
   "id": "66afaf85",
   "metadata": {},
   "source": [
    "**Evaluasi Model**"
   ]
  },
  {
   "cell_type": "code",
   "execution_count": 24,
   "id": "afcf83d2",
   "metadata": {},
   "outputs": [
    {
     "name": "stdout",
     "output_type": "stream",
     "text": [
      "Accuracy : 0.66668\n",
      "Precision: 0.66668\n",
      "Recall   : 0.66668\n"
     ]
    }
   ],
   "source": [
    "from sklearn.metrics import accuracy_score, precision_score, recall_score\n",
    "\n",
    "#Menghitung Accuracy, Precision, dan Recall\n",
    "print('Accuracy :', accuracy_score(y_test, y_pred))\n",
    "print('Precision:', precision_score(y_test, y_pred, average='micro'))\n",
    "print('Recall   :', recall_score(y_test, y_pred, average='micro'))"
   ]
  },
  {
   "cell_type": "markdown",
   "id": "2a936e50",
   "metadata": {},
   "source": [
    "Berdasarkan evaluasi model yang dibangun menggunakan algoritma LogisticRegression, diperoleh nilai akurasi, precision, dan recall sebesar 0.66. Nilai pada evaluasi ini dapat menjadi tolak ukur apakah model akan tetap digunakan atau melakukan tindakan lain seperti hyperparameter tuning atau mengganti jenis algoritma untuk memperbaiki performa model."
   ]
  }
 ],
 "metadata": {
  "kernelspec": {
   "display_name": "Python 3 (ipykernel)",
   "language": "python",
   "name": "python3"
  },
  "language_info": {
   "codemirror_mode": {
    "name": "ipython",
    "version": 3
   },
   "file_extension": ".py",
   "mimetype": "text/x-python",
   "name": "python",
   "nbconvert_exporter": "python",
   "pygments_lexer": "ipython3",
   "version": "3.9.12"
  }
 },
 "nbformat": 4,
 "nbformat_minor": 5
}
